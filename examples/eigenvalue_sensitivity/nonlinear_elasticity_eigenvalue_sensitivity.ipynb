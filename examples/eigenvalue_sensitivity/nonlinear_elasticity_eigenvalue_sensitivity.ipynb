{
 "cells": [
  {
   "cell_type": "markdown",
   "metadata": {},
   "source": [
    "# Eigenvalue sensitivity in a nonlinear problem\n",
    "\n",
    "## Introduction\n",
    "\n",
    "The vibration characteristics of linear systems do not change with the applied loads (by definition). However, real systems often do have nonlinear effects that influence their spectrum. Quantifying these sensitivities can be useful for determining design margins and for designing structures and meta-materials to have useful filtering properties. This notebook explores this idea in a simple problem and illustrates how the tools of OptimiSM and Jax can be brought to bear.\n",
    "\n",
    "This notebook generalizes the previous example to the spectral analysis of a finitely deformed, hyperelastic structure. In doing so, we will get a glimpse at one of the nonlinear optimization-based solvers in OptimiSM. It concludes with a more interesting nonlinear eigenvalue sensitivity that requires an adjoint solve."
   ]
  },
  {
   "cell_type": "code",
   "execution_count": 1,
   "metadata": {},
   "outputs": [],
   "source": [
    "import functools\n",
    "import jax\n",
    "import jax.numpy as np\n",
    "import numpy as onp\n",
    "from scipy.sparse import linalg\n",
    "from sksparse import cholmod\n",
    "\n",
    "from optimism import Mesh\n",
    "from optimism.Mesh import DofManager, EssentialBC\n",
    "from optimism import EquationSolver\n",
    "from optimism import FunctionSpace\n",
    "from optimism import Mechanics\n",
    "from optimism.material import Neohookean\n",
    "from optimism import Objective\n",
    "from optimism import VTKWriter\n",
    "from optimism import QuadratureRule\n",
    "from optimism import SparseMatrixAssembler\n",
    "from optimism import Surface\n",
    "from optimism import TractionBC"
   ]
  },
  {
   "cell_type": "markdown",
   "metadata": {},
   "source": [
    "The geometry is the same as the in the linear example: a cantilevered plate of span $L=10$ and thickness $h = 1$. The setup procedure is nearly identical to the linear problem, so we'll pass over it without much comment. The significant changes are the following:\n",
    "\n",
    "1. A sideset is created on the top edge of the plate, which will be used to define a traction.\n",
    "2. We choose linear elements this time for comparison (actually, we omit the `elementOrder` argument which yields linear elements by default).\n",
    "3. Let's keep the number of degrees of freedom the same as the linear problem, so we'll double the number of element intervals in both directions."
   ]
  },
  {
   "cell_type": "code",
   "execution_count": 2,
   "metadata": {},
   "outputs": [],
   "source": [
    "h = 1.0\n",
    "L = 10.0\n",
    "mesh = Mesh.construct_structured_mesh(Nx=8, Ny=80, xExtent=[0.0, h], yExtent=[0.0, L])\n",
    "nodeTol = 1e-8\n",
    "\n",
    "nodeSets = {'bottom': np.flatnonzero(mesh.coords[:,1] < 0 + nodeTol),\n",
    "            'top': np.flatnonzero(mesh.coords[:,1] > L - nodeTol)}\n",
    "\n",
    "def is_edge_on_top(xyOnEdge):\n",
    "    return np.all(xyOnEdge[:,1] > L - nodeTol)\n",
    "\n",
    "sideSets = {'top': Surface.create_edges(mesh.coords, mesh.conns, is_edge_on_top)}\n",
    "\n",
    "mesh = Mesh.construct_mesh_from_basic_data(mesh.coords, mesh.conns, mesh.blocks, nodeSets, sideSets)\n",
    "\n",
    "EBCs = [EssentialBC(nodeSet='bottom', field=0),\n",
    "        EssentialBC(nodeSet='bottom', field=1)]\n",
    "\n",
    "fieldShape = mesh.coords.shape\n",
    "dofManager = DofManager(mesh, fieldShape, EBCs)\n",
    "\n",
    "quadRule = QuadratureRule.create_quadrature_rule_on_triangle(degree=2)\n",
    "fs = FunctionSpace.construct_function_space(mesh, quadRule)"
   ]
  },
  {
   "cell_type": "markdown",
   "metadata": {},
   "source": [
    "In contrast to the linear example, we'll make the material Neo-Hookean this time to incorporate material and geometric nonlinearity:"
   ]
  },
  {
   "cell_type": "code",
   "execution_count": 3,
   "metadata": {},
   "outputs": [],
   "source": [
    "E = 5.0\n",
    "nu = 0.25\n",
    "rho = 1.0\n",
    "props = {'elastic modulus': E,\n",
    "         'poisson ratio': nu,\n",
    "         'density': rho}\n",
    "material = Neohookean.create_material_model_functions(props)"
   ]
  },
  {
   "cell_type": "markdown",
   "metadata": {},
   "source": [
    "As before, we instantiate the physics modules:"
   ]
  },
  {
   "cell_type": "code",
   "execution_count": 4,
   "metadata": {},
   "outputs": [],
   "source": [
    "solidMechanics = Mechanics.create_mechanics_functions(fs, 'plane strain', material)\n",
    "solidDynamics = Mechanics.create_dynamics_functions(fs, 'plane strain', material, Mechanics.NewmarkParameters)"
   ]
  },
  {
   "cell_type": "markdown",
   "metadata": {},
   "source": [
    "As in the previous example, we will perform spectral analyses on the plate. However, unlike the previous example, we are going to solve a forward problem as well. In OptimiSM, physics problems are specified by writing their potential functions, which are then minimized to find the solution. We'll set up the potential now.\n",
    "\n",
    "> 📝 Note: You might be worried that this optimization-based formulation excludes path-dependent materials and dynamics, but in fact they can be treated with time-discrete potentials. This is a subject for another day.\n",
    "\n",
    "We will load the plate with a uniform vertical traction on the top edge so that the plate stretches in the $y$-direction. We can parameterize it by the total applied force (per unit depth) $F$. Mathematically, the traction on the top surface is thus\n",
    "\\begin{equation}\n",
    "    \\bar{\\mathbf{t}}(F) = \\frac{F}{h} \\mathbf{e}_2,\n",
    "\\end{equation}\n",
    "where $\\mathbf{e}_2$ is the unit vector for the $y$-direction.\n",
    "On the left and right edges, the traction is the zero function.\n",
    "\n",
    "The potential energy will need to include the potential of this load, so let's create a surface quadrature rule that can integrate it:"
   ]
  },
  {
   "cell_type": "code",
   "execution_count": 5,
   "metadata": {},
   "outputs": [],
   "source": [
    "surfaceQuadRule = QuadratureRule.create_quadrature_rule_1D(degree=1)"
   ]
  },
  {
   "cell_type": "markdown",
   "metadata": {},
   "source": [
    "Now we can express the potential energy function. The `solidMechanics` functional does the actual integrating."
   ]
  },
  {
   "cell_type": "code",
   "execution_count": 6,
   "metadata": {},
   "outputs": [],
   "source": [
    "def compute_potential_energy(Uu, p):\n",
    "    U = dofManager.create_field(Uu)\n",
    "    F = p[0]\n",
    "    internalVariables = p[1]\n",
    "    traction_function = lambda X: np.array([0.0, F/h])\n",
    "    V = TractionBC.compute_traction_potential_energy(mesh, U, surfaceQuadRule, \n",
    "                                                     mesh.sideSets['top'], traction_function)\n",
    "    W = solidMechanics.compute_strain_energy(U, internalVariables)\n",
    "    return W + V"
   ]
  },
  {
   "cell_type": "markdown",
   "metadata": {},
   "source": [
    "We don't need the kinetic energy in our forward problem, since it's quasi-static, but it will be needed for the eigenvalue analyses, so let's code it now. Note that the `solidDynamics` module is doing all the work; all we're doing here is managing the difference between vectors of unknowns (which exclude essential boundary conditions) and the full set of degrees of freedom on the mesh."
   ]
  },
  {
   "cell_type": "code",
   "execution_count": 7,
   "metadata": {},
   "outputs": [],
   "source": [
    "\n",
    "def compute_kinetic_energy(Vu):\n",
    "    V = dofManager.create_field(Vu)\n",
    "    return solidDynamics.compute_output_kinetic_energy(V)"
   ]
  },
  {
   "cell_type": "markdown",
   "metadata": {},
   "source": [
    "One last preliminary step: we will create an object of class `Objective`, which stores the objective function for our forward analysis (the potential energy) and has all the operators the solver will need on it: the gradient (which is the residual operator), the action of the hessian on vectors, and other similar things. We'll use a sparse Cholesky factorization of the stiffness matrix as the preconditioner for the linear solver (which is conjugate gradient in this case)."
   ]
  },
  {
   "cell_type": "code",
   "execution_count": 8,
   "metadata": {},
   "outputs": [],
   "source": [
    "def assemble_sparse_stiffness_matrix(Uu, p):\n",
    "    U = dofManager.create_field(Uu)\n",
    "    internalVariables = p.state_data\n",
    "    elementStiffnesses = solidMechanics.compute_element_stiffnesses(U, internalVariables)\n",
    "    return SparseMatrixAssembler.assemble_sparse_stiffness_matrix(\n",
    "        elementStiffnesses, mesh.conns, dofManager)\n",
    "\n",
    "precondStrategy = Objective.PrecondStrategy(assemble_sparse_stiffness_matrix)\n",
    "\n",
    "Uu = dofManager.get_unknown_values(np.zeros(fieldShape)) # set initial unknown displacements to zero\n",
    "state = solidMechanics.compute_initial_state() # initialize internal state variables\n",
    "force = 0.0 # initialize applied force\n",
    "p = Objective.Params(force, state)\n",
    "\n",
    "objective = Objective.Objective(compute_potential_energy, Uu, p, precondStrategy)\n"
   ]
  },
  {
   "cell_type": "markdown",
   "metadata": {},
   "source": [
    "## Spectral analysis\n",
    "\n",
    "This time, instead of explicitly computing the stiffness and mass matrices for the spectral analysis, we'll compute the action of these operations implicitly using the finite element assembly procedure.\n",
    "\n",
    "First up is the stiffness matrix operator. Here we see a use of the `Objective` object: it already has the Hessian-on-vector operation we want, and it helpfully has instructed Jax to apply just-in-time compilation on it. The SciPy eigensolvers take in the action of matrices with its `LinearOperator` type. (The `asarray` function is needed to cast the Jax arrays into \"regular\" NumPy arrays. The Jax arrays carry metadata that make them incompatible with most NumPy and SciPy functions. The `asarray` operator casts to NumPy `ndarray` while avoiding a deep copy.)"
   ]
  },
  {
   "cell_type": "code",
   "execution_count": 15,
   "metadata": {},
   "outputs": [],
   "source": [
    "\n",
    "n = dofManager.get_unknown_size()\n",
    "\n",
    "K = linalg.LinearOperator((n, n), lambda V: onp.asarray(objective.hessian_vec(Uu, V)))\n"
   ]
  },
  {
   "cell_type": "markdown",
   "metadata": {},
   "source": [
    "Recall that the eigenvalue solver needs the action of the inverse of $\\mathbf{K}$. We'll use a conjugate gradient solver for this. One unfortunate side effect of foregoing the explicit matrix representation is that it makes it trickier to precondition the linear solves. Matrix-free preconditioning is beyond the scope of this little tutorial, so we're going to use a sparse Cholesky factorization of the stiffness matrix about the undeformed state.\n",
    "\n",
    "For the current spectral analysis, this is more than a preconditioner - it's the exact inverse, so the CG solver isn't going to do any work. Later on when we do the spectral analysis about the deformed state, we'll reuse this factorization, which will then no longer be exact."
   ]
  },
  {
   "cell_type": "code",
   "execution_count": 10,
   "metadata": {},
   "outputs": [],
   "source": [
    "\n",
    "KFactor = cholmod.cholesky(assemble_sparse_stiffness_matrix(Uu, p))\n",
    "approxKinv = linalg.LinearOperator((n, n), KFactor)\n",
    "Kinv = linalg.LinearOperator((n, n), lambda V: linalg.cg(K, V, atol=0, tol=1e-3, M=approxKinv)[0])\n"
   ]
  },
  {
   "cell_type": "markdown",
   "metadata": {},
   "source": [
    "\n",
    "Now for the mass matrix. The action $\\mathbf{v} \\mapsto \\mathbf{M} \\mathbf{v}$ can be computed by taking the derivative of the kinetic energy function. We'll use reverse mode (`jacrev`), and we'll mark it for just-in-time compilation to speed it up."
   ]
  },
  {
   "cell_type": "code",
   "execution_count": 11,
   "metadata": {},
   "outputs": [],
   "source": [
    "mass_operator = jax.jit(jax.jacrev(compute_kinetic_energy))\n",
    "M = linalg.LinearOperator((n, n), lambda V: onp.asarray(mass_operator(V)))"
   ]
  },
  {
   "cell_type": "code",
   "execution_count": 12,
   "metadata": {},
   "outputs": [
    {
     "ename": "TypeError",
     "evalue": "reduce() arg 2 must support iteration",
     "output_type": "error",
     "traceback": [
      "\u001b[0;31m---------------------------------------------------------------------------\u001b[0m",
      "\u001b[0;31mTypeError\u001b[0m                                 Traceback (most recent call last)",
      "Input \u001b[0;32mIn [12]\u001b[0m, in \u001b[0;36m<cell line: 2>\u001b[0;34m()\u001b[0m\n\u001b[1;32m      1\u001b[0m nModes \u001b[38;5;241m=\u001b[39m \u001b[38;5;241m10\u001b[39m\n\u001b[0;32m----> 2\u001b[0m mu, modes \u001b[38;5;241m=\u001b[39m \u001b[43mlinalg\u001b[49m\u001b[38;5;241;43m.\u001b[39;49m\u001b[43meigsh\u001b[49m\u001b[43m(\u001b[49m\u001b[43mA\u001b[49m\u001b[38;5;241;43m=\u001b[39;49m\u001b[43mM\u001b[49m\u001b[43m,\u001b[49m\u001b[43m \u001b[49m\u001b[43mk\u001b[49m\u001b[38;5;241;43m=\u001b[39;49m\u001b[43mnModes\u001b[49m\u001b[43m,\u001b[49m\u001b[43m \u001b[49m\u001b[43mM\u001b[49m\u001b[38;5;241;43m=\u001b[39;49m\u001b[43mK\u001b[49m\u001b[43m,\u001b[49m\u001b[43m \u001b[49m\u001b[43mMinv\u001b[49m\u001b[38;5;241;43m=\u001b[39;49m\u001b[43mKinv\u001b[49m\u001b[43m,\u001b[49m\u001b[43m \u001b[49m\u001b[43mwhich\u001b[49m\u001b[38;5;241;43m=\u001b[39;49m\u001b[38;5;124;43m'\u001b[39;49m\u001b[38;5;124;43mLA\u001b[39;49m\u001b[38;5;124;43m'\u001b[39;49m\u001b[43m)\u001b[49m\n\u001b[1;32m      3\u001b[0m lamda \u001b[38;5;241m=\u001b[39m \u001b[38;5;241m1\u001b[39m\u001b[38;5;241m/\u001b[39mmu\n\u001b[1;32m      5\u001b[0m lamda0 \u001b[38;5;241m=\u001b[39m lamda[\u001b[38;5;241m-\u001b[39m\u001b[38;5;241m1\u001b[39m]\n",
      "File \u001b[0;32m~/dev/optimism/venv/lib/python3.9/site-packages/scipy/sparse/linalg/_eigen/arpack/arpack.py:1683\u001b[0m, in \u001b[0;36meigsh\u001b[0;34m(A, k, M, sigma, which, v0, ncv, maxiter, tol, return_eigenvectors, Minv, OPinv, mode)\u001b[0m\n\u001b[1;32m   1679\u001b[0m     \u001b[38;5;66;03m# unrecognized mode\u001b[39;00m\n\u001b[1;32m   1680\u001b[0m     \u001b[38;5;28;01melse\u001b[39;00m:\n\u001b[1;32m   1681\u001b[0m         \u001b[38;5;28;01mraise\u001b[39;00m \u001b[38;5;167;01mValueError\u001b[39;00m(\u001b[38;5;124m\"\u001b[39m\u001b[38;5;124munrecognized mode \u001b[39m\u001b[38;5;124m'\u001b[39m\u001b[38;5;132;01m%s\u001b[39;00m\u001b[38;5;124m'\u001b[39m\u001b[38;5;124m\"\u001b[39m \u001b[38;5;241m%\u001b[39m mode)\n\u001b[0;32m-> 1683\u001b[0m params \u001b[38;5;241m=\u001b[39m \u001b[43m_SymmetricArpackParams\u001b[49m\u001b[43m(\u001b[49m\u001b[43mn\u001b[49m\u001b[43m,\u001b[49m\u001b[43m \u001b[49m\u001b[43mk\u001b[49m\u001b[43m,\u001b[49m\u001b[43m \u001b[49m\u001b[43mA\u001b[49m\u001b[38;5;241;43m.\u001b[39;49m\u001b[43mdtype\u001b[49m\u001b[38;5;241;43m.\u001b[39;49m\u001b[43mchar\u001b[49m\u001b[43m,\u001b[49m\u001b[43m \u001b[49m\u001b[43mmatvec\u001b[49m\u001b[43m,\u001b[49m\u001b[43m \u001b[49m\u001b[43mmode\u001b[49m\u001b[43m,\u001b[49m\n\u001b[1;32m   1684\u001b[0m \u001b[43m                                \u001b[49m\u001b[43mM_matvec\u001b[49m\u001b[43m,\u001b[49m\u001b[43m \u001b[49m\u001b[43mMinv_matvec\u001b[49m\u001b[43m,\u001b[49m\u001b[43m \u001b[49m\u001b[43msigma\u001b[49m\u001b[43m,\u001b[49m\n\u001b[1;32m   1685\u001b[0m \u001b[43m                                \u001b[49m\u001b[43mncv\u001b[49m\u001b[43m,\u001b[49m\u001b[43m \u001b[49m\u001b[43mv0\u001b[49m\u001b[43m,\u001b[49m\u001b[43m \u001b[49m\u001b[43mmaxiter\u001b[49m\u001b[43m,\u001b[49m\u001b[43m \u001b[49m\u001b[43mwhich\u001b[49m\u001b[43m,\u001b[49m\u001b[43m \u001b[49m\u001b[43mtol\u001b[49m\u001b[43m)\u001b[49m\n\u001b[1;32m   1687\u001b[0m \u001b[38;5;28;01mwith\u001b[39;00m _ARPACK_LOCK:\n\u001b[1;32m   1688\u001b[0m     \u001b[38;5;28;01mwhile\u001b[39;00m \u001b[38;5;129;01mnot\u001b[39;00m params\u001b[38;5;241m.\u001b[39mconverged:\n",
      "File \u001b[0;32m~/dev/optimism/venv/lib/python3.9/site-packages/scipy/sparse/linalg/_eigen/arpack/arpack.py:518\u001b[0m, in \u001b[0;36m_SymmetricArpackParams.__init__\u001b[0;34m(self, n, k, tp, matvec, mode, M_matvec, Minv_matvec, sigma, ncv, v0, maxiter, which, tol)\u001b[0m\n\u001b[1;32m    515\u001b[0m     \u001b[38;5;28;01mraise\u001b[39;00m \u001b[38;5;167;01mValueError\u001b[39;00m(\u001b[38;5;124m\"\u001b[39m\u001b[38;5;124mncv must be k<ncv<=n, ncv=\u001b[39m\u001b[38;5;132;01m%s\u001b[39;00m\u001b[38;5;124m\"\u001b[39m \u001b[38;5;241m%\u001b[39m \u001b[38;5;28mself\u001b[39m\u001b[38;5;241m.\u001b[39mncv)\n\u001b[1;32m    517\u001b[0m \u001b[38;5;66;03m# Use _aligned_zeros to work around a f2py bug in Numpy 1.9.1\u001b[39;00m\n\u001b[0;32m--> 518\u001b[0m \u001b[38;5;28mself\u001b[39m\u001b[38;5;241m.\u001b[39mworkd \u001b[38;5;241m=\u001b[39m \u001b[43m_aligned_zeros\u001b[49m\u001b[43m(\u001b[49m\u001b[38;5;241;43m3\u001b[39;49m\u001b[43m \u001b[49m\u001b[38;5;241;43m*\u001b[39;49m\u001b[43m \u001b[49m\u001b[43mn\u001b[49m\u001b[43m,\u001b[49m\u001b[43m \u001b[49m\u001b[38;5;28;43mself\u001b[39;49m\u001b[38;5;241;43m.\u001b[39;49m\u001b[43mtp\u001b[49m\u001b[43m)\u001b[49m\n\u001b[1;32m    519\u001b[0m \u001b[38;5;28mself\u001b[39m\u001b[38;5;241m.\u001b[39mworkl \u001b[38;5;241m=\u001b[39m _aligned_zeros(\u001b[38;5;28mself\u001b[39m\u001b[38;5;241m.\u001b[39mncv \u001b[38;5;241m*\u001b[39m (\u001b[38;5;28mself\u001b[39m\u001b[38;5;241m.\u001b[39mncv \u001b[38;5;241m+\u001b[39m \u001b[38;5;241m8\u001b[39m), \u001b[38;5;28mself\u001b[39m\u001b[38;5;241m.\u001b[39mtp)\n\u001b[1;32m    521\u001b[0m ltr \u001b[38;5;241m=\u001b[39m _type_conv[\u001b[38;5;28mself\u001b[39m\u001b[38;5;241m.\u001b[39mtp]\n",
      "File \u001b[0;32m~/dev/optimism/venv/lib/python3.9/site-packages/scipy/_lib/_util.py:129\u001b[0m, in \u001b[0;36m_aligned_zeros\u001b[0;34m(shape, dtype, order, align)\u001b[0m\n\u001b[1;32m    127\u001b[0m \u001b[38;5;28;01mif\u001b[39;00m \u001b[38;5;129;01mnot\u001b[39;00m \u001b[38;5;28mhasattr\u001b[39m(shape, \u001b[38;5;124m'\u001b[39m\u001b[38;5;124m__len__\u001b[39m\u001b[38;5;124m'\u001b[39m):\n\u001b[1;32m    128\u001b[0m     shape \u001b[38;5;241m=\u001b[39m (shape,)\n\u001b[0;32m--> 129\u001b[0m size \u001b[38;5;241m=\u001b[39m \u001b[43mfunctools\u001b[49m\u001b[38;5;241;43m.\u001b[39;49m\u001b[43mreduce\u001b[49m\u001b[43m(\u001b[49m\u001b[43moperator\u001b[49m\u001b[38;5;241;43m.\u001b[39;49m\u001b[43mmul\u001b[49m\u001b[43m,\u001b[49m\u001b[43m \u001b[49m\u001b[43mshape\u001b[49m\u001b[43m)\u001b[49m \u001b[38;5;241m*\u001b[39m dtype\u001b[38;5;241m.\u001b[39mitemsize\n\u001b[1;32m    130\u001b[0m buf \u001b[38;5;241m=\u001b[39m np\u001b[38;5;241m.\u001b[39mempty(size \u001b[38;5;241m+\u001b[39m align \u001b[38;5;241m+\u001b[39m \u001b[38;5;241m1\u001b[39m, np\u001b[38;5;241m.\u001b[39muint8)\n\u001b[1;32m    131\u001b[0m offset \u001b[38;5;241m=\u001b[39m buf\u001b[38;5;241m.\u001b[39m__array_interface__[\u001b[38;5;124m'\u001b[39m\u001b[38;5;124mdata\u001b[39m\u001b[38;5;124m'\u001b[39m][\u001b[38;5;241m0\u001b[39m] \u001b[38;5;241m%\u001b[39m align\n",
      "\u001b[0;31mTypeError\u001b[0m: reduce() arg 2 must support iteration"
     ]
    }
   ],
   "source": [
    "    \n",
    "nModes = 10\n",
    "mu, modes = linalg.eigsh(A=M, k=nModes, M=K, Minv=Kinv, which='LA')\n",
    "lamda = 1/mu\n",
    "\n",
    "lamda0 = lamda[-1]\n",
    "mode0 = dofManager.create_field(modes[:, -1])"
   ]
  },
  {
   "cell_type": "markdown",
   "metadata": {},
   "source": [
    "Since we're at the reference configuration, the exact solution is the same as the linear elastic one. We expect nearly the same answer out of the finite element analysis, with the difference owing to the different interpolation. Furthermore, since the elements are now lower order than before, we expect the structure to be stiffer and hence the fundamental frequency to be greater."
   ]
  },
  {
   "cell_type": "code",
   "execution_count": null,
   "metadata": {},
   "outputs": [],
   "source": [
    "print(\"natural circular frequency = \", np.sqrt(lamda0))"
   ]
  },
  {
   "cell_type": "markdown",
   "metadata": {},
   "source": [
    "Indeed, the frequency is a bit larger. We'll skip writing the VTK file output since it's essentially the same as before."
   ]
  },
  {
   "cell_type": "markdown",
   "metadata": {},
   "source": [
    "## Load the plate and solve for deformation"
   ]
  },
  {
   "cell_type": "markdown",
   "metadata": {},
   "source": [
    "The next step is to set up the solver for the forward problem. The solvers in OptimiSM are based on optimization methods, seeking the solution field by minimizing a suitable scalar functional (here the potential energy). We'll use the default solver, which is a Steihaug trust region-conjugate gradient method, which is a robust and efficient second-order method.\n",
    "\n",
    "Let's grab the default solver settings, which will be good for our purposes:"
   ]
  },
  {
   "cell_type": "code",
   "execution_count": null,
   "metadata": {},
   "outputs": [],
   "source": [
    "solverSettings = EquationSolver.get_settings()\n"
   ]
  },
  {
   "cell_type": "markdown",
   "metadata": {},
   "source": [
    "As an aside, the default settings will allow the preconditioner to be reused over multiple nonlinear iterations and trigger its update lazily - only when the linear CG solver crosses a threshold number of iterations. We can speed up the solver considerably by amortizing the cost of the preconditioner update over several nonlinear iterations. This comes at the cost of additional linear CG iterations as the system moves away from the state in which the preconditioner was updated. Since assembling and factorizing the stiffness matrix is expensive, while CG iterations are cheap, there is a range where this strategy is a net win."
   ]
  },
  {
   "cell_type": "markdown",
   "metadata": {},
   "source": [
    "Now we set $F=2$, which is fairly large (the nominal stress is $F/h = 0.4 E$), so we expect large deformations. Then we launch the solver and get back the updated nodal displacements, `Uu`. The second line is where we update the force $F$ in the parameter set."
   ]
  },
  {
   "cell_type": "code",
   "execution_count": null,
   "metadata": {},
   "outputs": [],
   "source": [
    "\n",
    "force = 2.0\n",
    "p = Objective.param_index_update(p, 0, force) # put current total force in parameter set\n",
    "Uu = EquationSolver.nonlinear_equation_solve(objective, Uu, p, solverSettings, useWarmStart=False)\n"
   ]
  },
  {
   "cell_type": "markdown",
   "metadata": {},
   "source": [
    "Let's write out this state to a VTK file and visualize it."
   ]
  },
  {
   "cell_type": "code",
   "execution_count": null,
   "metadata": {},
   "outputs": [],
   "source": [
    "U = dofManager.create_field(Uu)\n",
    "writer = VTKWriter.VTKWriter(mesh, baseFileName='nonlinear-beam-modes-deformed')\n",
    "writer.add_nodal_field('displacement', U, VTKWriter.VTKFieldType.VECTORS)\n",
    "writer.write()"
   ]
  },
  {
   "cell_type": "markdown",
   "metadata": {},
   "source": [
    "![deformed configuration](images/nonlinear_deformed_config.png)"
   ]
  },
  {
   "cell_type": "markdown",
   "metadata": {},
   "source": [
    "The black outline shows the initial, undeformed state of the plate. The deformations are rather large, as expected."
   ]
  },
  {
   "cell_type": "markdown",
   "metadata": {},
   "source": [
    "## Spectral analysis about deformed state"
   ]
  },
  {
   "cell_type": "markdown",
   "metadata": {},
   "source": [
    "We repeat the spectral analysis to see how the spectrum has shifted due to the applied load. The mass matrix is invariant, but the stiffness matrix will change siginificantly due to material and geometric nonlinearity. The process here is the same as before, so we repeat the code (in an actual simulation, this would be an obvious candidate for refactoring into a function)."
   ]
  },
  {
   "cell_type": "code",
   "execution_count": null,
   "metadata": {},
   "outputs": [],
   "source": [
    "K = linalg.LinearOperator((n, n), lambda V: onp.asarray(objective.hessian_vec(Uu, V)))\n",
    "Kinv = linalg.LinearOperator((n, n), lambda V: linalg.cg(K, V, atol=0, tol=1e-9, M=approxKinv)[0])\n",
    "    \n",
    "nModes = 10\n",
    "mu, modes = linalg.eigsh(A=M, k=nModes, M=K, Minv=Kinv, which='LA')\n",
    "lamda = 1/mu\n",
    "lamda0 = lamda[-1]\n",
    "mode0 = modes[:, -1]\n",
    "\n",
    "print('new circular frequency ', np.sqrt(lamda0))\n",
    "\n",
    "writer.add_nodal_field('mode', dofManager.create_field(mode0), VTKWriter.VTKFieldType.VECTORS)\n",
    "writer.write()"
   ]
  },
  {
   "cell_type": "markdown",
   "metadata": {},
   "source": [
    "The fundamental frequency has increased sevenfold, which is quite dramatic. There are at least three factors shifting the frequency: (1) the Neo-Hookean model gets stiffer with increased stretch, which tends to increase the natural frequency; (2) the mode shape changes owing to geometric nonlinearity; (3) the mass moment of inertia of the plate increases, since the mass distribution is now spread further from the nodal point at the root. This last effect should tend to decrease the natural frequency. Overall, the factors on the frequency-increasing side win out.\n",
    "\n",
    "Let's write out the modal shape to the same VTK file. We can then compose the deformation and the mode shape to see what the vibration mode looks like in the deformed configuration."
   ]
  },
  {
   "cell_type": "code",
   "execution_count": null,
   "metadata": {},
   "outputs": [],
   "source": [
    "writer.add_nodal_field('mode', dofManager.create_field(mode0), VTKWriter.VTKFieldType.VECTORS)\n",
    "writer.write()"
   ]
  },
  {
   "cell_type": "markdown",
   "metadata": {},
   "source": [
    "![deformed mode shape](images/nonlinear_vibration.gif)"
   ]
  },
  {
   "cell_type": "markdown",
   "metadata": {},
   "source": [
    "The mode shape almost now looks almost like a half-symmetry model of a simply supported plate. The large load at the free end is inhibiting rotation there. "
   ]
  },
  {
   "cell_type": "markdown",
   "metadata": {},
   "source": [
    "## Sensitivity of the natural frequency to the tensile force"
   ]
  },
  {
   "cell_type": "markdown",
   "metadata": {},
   "source": [
    "A designer might wish to know the marginal effect that an applied load has on the fundamental natural frequency. For example, one might want to know how fastener preload might increase resonance, or perhaps one wants to use computational design optimization on bearing pads in order to damp certain frequencies.\n",
    "\n",
    "As before, we define the output functional\n",
    "\\begin{equation*}\n",
    "    Q(\\mathbf{u}) = \\frac{ \\mathbf{v}_0^T \\left( \\mathbf{K}(\\mathbf{u}) - \\lambda_0 \\mathbf{M} \\right) \\mathbf{v}_0 }\n",
    "    { \\mathbf{v}_0^T \\mathbf{M} \\mathbf{v}_0 }.\n",
    "\\end{equation*}\n"
   ]
  },
  {
   "cell_type": "code",
   "execution_count": null,
   "metadata": {},
   "outputs": [],
   "source": [
    "vMv = 2*compute_kinetic_energy(mode0)\n",
    "\n",
    "def Q(Wu):\n",
    "    vKv = np.dot(mode0, objective.hessian_vec(Wu, mode0))\n",
    "    return (vKv - 2*lamda0*compute_kinetic_energy(mode0))/vMv"
   ]
  },
  {
   "cell_type": "markdown",
   "metadata": {},
   "source": [
    "\n",
    "From Seth's notes, we know that the sought sensitivity of the eigenvalue is given by\n",
    "\\begin{equation*}\n",
    "    \\frac{d \\lambda_0(\\mathbf{u})}{d F} = \\frac{d Q(\\mathbf{u})}{dF}\n",
    "\\end{equation*}\n",
    "This is not the whole story, however. What we mean by \"sensitivity to $F$\" is the marginal change in $\\lambda_0$ with respect to applied load $F$ such that *the body remains in equilibrium*. As such, this is a PDE-constrained sensitivity problem.\n",
    "We can express the sensitivity using the residual force operator for the mechanics problem $\\mathbf{r}(\\mathbf{u}, F)$ as\n",
    "\\begin{align*}\n",
    "    \\frac{d Q(\\mathbf{u}(F))}{dF} & & \\text{s.t.} & & \\mathbf{r}(\\mathbf{u}, F) = \\mathbf{0} \\; \\forall F.\n",
    "\\end{align*}\n",
    "\n",
    "This can be solved with the adjoint method. First, we solve the adjoint problem\n",
    "\\begin{equation*}\n",
    "    \\mathbf{K}^T \\mathbf{a} = - Q_{, \\mathbf{u}},\n",
    "\\end{equation*}\n",
    "where $\\mathbf{a}$ is the adjoint displacement. The comma subscript notation indicates partial differentiation with respect to the trailing subscript variable. The adjoint load follows from a simple use of reverse-mode AD. The stiffness matrix is symmetric, so we can drop the tranpose operator."
   ]
  },
  {
   "cell_type": "code",
   "execution_count": null,
   "metadata": {},
   "outputs": [],
   "source": [
    "adjointLoad = -jax.grad(Q)(Uu)\n",
    "adjointDisplacement = linalg.cg(K, onp.array(adjointLoad), tol=1e-10, atol=0.0, M=approxKinv)[0]\n",
    "adjointDisplacement = np.asarray(adjointDisplacement) # cast back to jax-numpy array"
   ]
  },
  {
   "cell_type": "markdown",
   "metadata": {},
   "source": [
    "\n",
    "The sought sensitivities are then found from\n",
    "\\begin{equation*}\n",
    "    \\frac{d Q}{d F} = \\mathbf{a}^T \\mathbf{r}_{, F}.\n",
    "\\end{equation*}\n"
   ]
  },
  {
   "cell_type": "markdown",
   "metadata": {},
   "source": [
    "The `Objective` class provides methods for common sensititivities, which saves us the work of writing the AD expression. Let's use it to compute the sensitivity."
   ]
  },
  {
   "cell_type": "code",
   "execution_count": null,
   "metadata": {},
   "outputs": [],
   "source": [
    "lamdaPrime = objective.vec_jacobian_p0(Uu, adjointDisplacement)[0]\n",
    "print(lamdaPrime)"
   ]
  },
  {
   "cell_type": "markdown",
   "metadata": {},
   "source": [
    "It's that simple. Notice that with the `Objective` object, which we use for our forward solve, there's almost no additional coding overhead to get adjoint sensitivities, even in a nonlinear problem."
   ]
  },
  {
   "cell_type": "markdown",
   "metadata": {},
   "source": [
    "## Verify the sensitivity\n",
    "\n",
    "Let's do a finite difference approximation to verify this calculation.\n",
    "\n",
    "First, increment the force and then do another solve of the forward problem:"
   ]
  },
  {
   "cell_type": "code",
   "execution_count": null,
   "metadata": {},
   "outputs": [],
   "source": [
    "df = 1e-4\n",
    "forcePlus = force + df\n",
    "p = Objective.param_index_update(p, 0, forcePlus)\n",
    "UuPlus = EquationSolver.nonlinear_equation_solve(objective, Uu, p, solverSettings, useWarmStart=False)"
   ]
  },
  {
   "cell_type": "markdown",
   "metadata": {},
   "source": [
    "Now we'll solve the eigenvalue problem about the perturbed state."
   ]
  },
  {
   "cell_type": "code",
   "execution_count": null,
   "metadata": {},
   "outputs": [],
   "source": [
    "K = linalg.LinearOperator((n, n), lambda V: onp.asarray(objective.hessian_vec(UuPlus, V)))\n",
    "Kinv = linalg.LinearOperator((n, n), lambda V: linalg.cg(K, V, atol=0, tol=1e-9, M=approxKinv)[0])\n",
    "    \n",
    "nModes = 10\n",
    "mu, modes = linalg.eigsh(A=M, k=nModes, M=K, Minv=Kinv, which='LA')\n",
    "lamda0Plus = 1/mu[-1]"
   ]
  },
  {
   "cell_type": "markdown",
   "metadata": {},
   "source": [
    "The forward difference approximation of the frequency sensitivity is then"
   ]
  },
  {
   "cell_type": "code",
   "execution_count": null,
   "metadata": {},
   "outputs": [],
   "source": [
    "lamdaPrimeFD = (lamda0Plus - lamda0)/df\n",
    "print(\"finite difference\", lamdaPrimeFD)"
   ]
  },
  {
   "cell_type": "markdown",
   "metadata": {},
   "source": [
    "The difference is less than two parts per ten thousand."
   ]
  },
  {
   "cell_type": "code",
   "execution_count": null,
   "metadata": {},
   "outputs": [],
   "source": [
    "(lamdaPrime-lamdaPrimeFD)/lamdaPrimeFD"
   ]
  }
 ],
 "metadata": {
  "kernelspec": {
   "display_name": "Python 3 (ipykernel)",
   "language": "python",
   "name": "python3"
  },
  "language_info": {
   "codemirror_mode": {
    "name": "ipython",
    "version": 3
   },
   "file_extension": ".py",
   "mimetype": "text/x-python",
   "name": "python",
   "nbconvert_exporter": "python",
   "pygments_lexer": "ipython3",
   "version": "3.9.13"
  },
  "vscode": {
   "interpreter": {
    "hash": "bdc7df5f7018d745c11232817a9029430f23f4c59212b10701913f3545379ab7"
   }
  }
 },
 "nbformat": 4,
 "nbformat_minor": 2
}
